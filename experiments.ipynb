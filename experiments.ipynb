{
 "cells": [
  {
   "cell_type": "code",
   "execution_count": 5,
   "id": "5a2b8969",
   "metadata": {},
   "outputs": [],
   "source": [
    "import pandas as pd\n",
    "\n",
    "import sklearn\n",
    "from sklearn import preprocessing\n",
    "from sklearn.model_selection import train_test_split\n",
    "from sklearn.feature_extraction.text import CountVectorizer\n",
    "\n",
    "from sklearn.linear_model import LogisticRegression\n",
    "from sklearn.naive_bayes import GaussianNB\n",
    "from sklearn.ensemble import BaggingClassifier\n",
    "from sklearn.metrics import classification_report, confusion_matrix\n",
    "\n",
    "from imblearn.over_sampling import RandomOverSampler\n",
    "from imblearn.under_sampling import RandomUnderSampler"
   ]
  },
  {
   "cell_type": "markdown",
   "id": "1c9918ba",
   "metadata": {},
   "source": [
    "## Preparing data"
   ]
  },
  {
   "cell_type": "code",
   "execution_count": 2,
   "id": "eda53be9",
   "metadata": {},
   "outputs": [
    {
     "data": {
      "text/html": [
       "<div>\n",
       "<style scoped>\n",
       "    .dataframe tbody tr th:only-of-type {\n",
       "        vertical-align: middle;\n",
       "    }\n",
       "\n",
       "    .dataframe tbody tr th {\n",
       "        vertical-align: top;\n",
       "    }\n",
       "\n",
       "    .dataframe thead th {\n",
       "        text-align: right;\n",
       "    }\n",
       "</style>\n",
       "<table border=\"1\" class=\"dataframe\">\n",
       "  <thead>\n",
       "    <tr style=\"text-align: right;\">\n",
       "      <th></th>\n",
       "      <th>_unit_id</th>\n",
       "      <th>_unit_state</th>\n",
       "      <th>_trusted_judgments</th>\n",
       "      <th>_last_judgment_at</th>\n",
       "      <th>what_is_the_reason_for_your_answer_</th>\n",
       "      <th>what_type_of_language_is_used_in_this_tweet</th>\n",
       "      <th>what_type_of_language_is_used_in_this_tweet:confidence</th>\n",
       "      <th>id</th>\n",
       "      <th>text</th>\n",
       "      <th>what_is_the_reason_for_your_answer__gold</th>\n",
       "      <th>what_type_of_language_is_used_in_this_tweet_gold</th>\n",
       "    </tr>\n",
       "  </thead>\n",
       "  <tbody>\n",
       "    <tr>\n",
       "      <th>0</th>\n",
       "      <td>3342615631</td>\n",
       "      <td>finalized</td>\n",
       "      <td>3</td>\n",
       "      <td>9/28/2022 00:03:25</td>\n",
       "      <td>Ill-mannered expressions\\nSwear words/shit\\nSw...</td>\n",
       "      <td>uncivil</td>\n",
       "      <td>1.0</td>\n",
       "      <td>2041171</td>\n",
       "      <td>That's enough of that shit,thanks itv I've dec...</td>\n",
       "      <td>NaN</td>\n",
       "      <td>NaN</td>\n",
       "    </tr>\n",
       "    <tr>\n",
       "      <th>1</th>\n",
       "      <td>3342615632</td>\n",
       "      <td>finalized</td>\n",
       "      <td>3</td>\n",
       "      <td>9/28/2022 23:47:34</td>\n",
       "      <td>Insults (also includes name-calling)\\nInsults\\...</td>\n",
       "      <td>uncivil</td>\n",
       "      <td>1.0</td>\n",
       "      <td>4006019</td>\n",
       "      <td>I know that Leave has won #Brexit but you shou...</td>\n",
       "      <td>NaN</td>\n",
       "      <td>NaN</td>\n",
       "    </tr>\n",
       "    <tr>\n",
       "      <th>2</th>\n",
       "      <td>3342615633</td>\n",
       "      <td>finalized</td>\n",
       "      <td>3</td>\n",
       "      <td>9/28/2022 04:48:38</td>\n",
       "      <td>There is no uncivil language.\\nthere is no unc...</td>\n",
       "      <td>civil</td>\n",
       "      <td>1.0</td>\n",
       "      <td>6022678</td>\n",
       "      <td>Extraordinary claim from senior MP that Jeremy...</td>\n",
       "      <td>NaN</td>\n",
       "      <td>NaN</td>\n",
       "    </tr>\n",
       "    <tr>\n",
       "      <th>3</th>\n",
       "      <td>3342615634</td>\n",
       "      <td>finalized</td>\n",
       "      <td>3</td>\n",
       "      <td>9/27/2022 04:22:12</td>\n",
       "      <td>There is no uncivil language.\\nThere is no unc...</td>\n",
       "      <td>civil</td>\n",
       "      <td>1.0</td>\n",
       "      <td>2821819</td>\n",
       "      <td>#Moscow #SaintPetersburg Controversial comment...</td>\n",
       "      <td>NaN</td>\n",
       "      <td>NaN</td>\n",
       "    </tr>\n",
       "    <tr>\n",
       "      <th>4</th>\n",
       "      <td>3342615635</td>\n",
       "      <td>finalized</td>\n",
       "      <td>3</td>\n",
       "      <td>9/28/2022 02:08:52</td>\n",
       "      <td>There is no uncivil language.\\nthere is no unc...</td>\n",
       "      <td>civil</td>\n",
       "      <td>1.0</td>\n",
       "      <td>83442</td>\n",
       "      <td>@RachaelMaskell Labour must argue to stay in d...</td>\n",
       "      <td>NaN</td>\n",
       "      <td>NaN</td>\n",
       "    </tr>\n",
       "  </tbody>\n",
       "</table>\n",
       "</div>"
      ],
      "text/plain": [
       "     _unit_id _unit_state  _trusted_judgments   _last_judgment_at  \\\n",
       "0  3342615631   finalized                   3  9/28/2022 00:03:25   \n",
       "1  3342615632   finalized                   3  9/28/2022 23:47:34   \n",
       "2  3342615633   finalized                   3  9/28/2022 04:48:38   \n",
       "3  3342615634   finalized                   3  9/27/2022 04:22:12   \n",
       "4  3342615635   finalized                   3  9/28/2022 02:08:52   \n",
       "\n",
       "                 what_is_the_reason_for_your_answer_  \\\n",
       "0  Ill-mannered expressions\\nSwear words/shit\\nSw...   \n",
       "1  Insults (also includes name-calling)\\nInsults\\...   \n",
       "2  There is no uncivil language.\\nthere is no unc...   \n",
       "3  There is no uncivil language.\\nThere is no unc...   \n",
       "4  There is no uncivil language.\\nthere is no unc...   \n",
       "\n",
       "  what_type_of_language_is_used_in_this_tweet  \\\n",
       "0                                     uncivil   \n",
       "1                                     uncivil   \n",
       "2                                       civil   \n",
       "3                                       civil   \n",
       "4                                       civil   \n",
       "\n",
       "   what_type_of_language_is_used_in_this_tweet:confidence       id  \\\n",
       "0                                                1.0       2041171   \n",
       "1                                                1.0       4006019   \n",
       "2                                                1.0       6022678   \n",
       "3                                                1.0       2821819   \n",
       "4                                                1.0         83442   \n",
       "\n",
       "                                                text  \\\n",
       "0  That's enough of that shit,thanks itv I've dec...   \n",
       "1  I know that Leave has won #Brexit but you shou...   \n",
       "2  Extraordinary claim from senior MP that Jeremy...   \n",
       "3  #Moscow #SaintPetersburg Controversial comment...   \n",
       "4  @RachaelMaskell Labour must argue to stay in d...   \n",
       "\n",
       "   what_is_the_reason_for_your_answer__gold  \\\n",
       "0                                       NaN   \n",
       "1                                       NaN   \n",
       "2                                       NaN   \n",
       "3                                       NaN   \n",
       "4                                       NaN   \n",
       "\n",
       "   what_type_of_language_is_used_in_this_tweet_gold  \n",
       "0                                               NaN  \n",
       "1                                               NaN  \n",
       "2                                               NaN  \n",
       "3                                               NaN  \n",
       "4                                               NaN  "
      ]
     },
     "execution_count": 2,
     "metadata": {},
     "output_type": "execute_result"
    }
   ],
   "source": [
    "DATA = 'data/a1989123.csv'\n",
    "csv = pd.read_csv(DATA)\n",
    "csv.head()"
   ]
  },
  {
   "cell_type": "code",
   "execution_count": 6,
   "id": "506bdeb9",
   "metadata": {},
   "outputs": [],
   "source": [
    "df = pd.DataFrame({'category': csv.what_type_of_language_is_used_in_this_tweet, 'text': csv.text})\n",
    "\n",
    "vectorizer = CountVectorizer(stop_words='english', max_features=5000)\n",
    "X = vectorizer.fit_transform(df.text)\n",
    "\n",
    "labelEncoder = preprocessing.LabelEncoder()\n",
    "y = labelEncoder.fit_transform(df.category)\n",
    "\n",
    "X_train, X_test, y_train, y_test = train_test_split(X, y, test_size=0.33, random_state=42)\n",
    "\n",
    "ros = RandomUnderSampler(random_state=42)\n",
    "X_train, y_train = ros.fit_resample(X_train, y_train)"
   ]
  },
  {
   "cell_type": "markdown",
   "id": "f3f34827",
   "metadata": {},
   "source": [
    "## Setting up classifiers"
   ]
  },
  {
   "cell_type": "code",
   "execution_count": 7,
   "id": "ffad07f0",
   "metadata": {},
   "outputs": [
    {
     "data": {
      "text/plain": [
       "0.9775596072931276"
      ]
     },
     "execution_count": 7,
     "metadata": {},
     "output_type": "execute_result"
    }
   ],
   "source": [
    "#clf = LogisticRegression(random_state=0).fit(X_train, y_train)\n",
    "#clf = GaussianNB().fit(X_train.toarray(), y_train)\n",
    "clf = BaggingClassifier(random_state=0).fit(X_train, y_train)\n"
   ]
  },
  {
   "cell_type": "code",
   "execution_count": 13,
   "id": "e72793d0",
   "metadata": {},
   "outputs": [
    {
     "name": "stdout",
     "output_type": "stream",
     "text": [
      "0.9775596072931276\n",
      "              precision    recall  f1-score   support\n",
      "\n",
      "           0       0.96      0.99      0.98       713\n",
      "           1       0.99      0.96      0.98       713\n",
      "\n",
      "    accuracy                           0.98      1426\n",
      "   macro avg       0.98      0.98      0.98      1426\n",
      "weighted avg       0.98      0.98      0.98      1426\n",
      "\n",
      "              precision    recall  f1-score   support\n",
      "\n",
      "           0       0.94      0.78      0.85      2940\n",
      "           1       0.25      0.58      0.35       360\n",
      "\n",
      "    accuracy                           0.76      3300\n",
      "   macro avg       0.59      0.68      0.60      3300\n",
      "weighted avg       0.86      0.76      0.80      3300\n",
      "\n"
     ]
    },
    {
     "data": {
      "text/plain": [
       "(2306, 634, 151, 209)"
      ]
     },
     "execution_count": 13,
     "metadata": {},
     "output_type": "execute_result"
    }
   ],
   "source": [
    "print(clf.score(X_train, y_train))\n",
    "\n",
    "y_train_pred = clf.predict(X_train)\n",
    "print(classification_report(y_train, y_train_pred))\n",
    "\n",
    "y_test_pred = clf.predict(X_test)\n",
    "print(classification_report(y_test, y_test_pred))\n",
    "\n",
    "confusion_matrix(y_test, y_test_pred)\n",
    "tn, fp, fn, tp = confusion_matrix(y_test, y_test_pred).ravel()\n",
    "(tn, fp, fn, tp)"
   ]
  },
  {
   "cell_type": "markdown",
   "id": "fe1b787f",
   "metadata": {},
   "source": [
    "## Additional data predictions"
   ]
  },
  {
   "cell_type": "code",
   "execution_count": 15,
   "id": "0211b9d5",
   "metadata": {},
   "outputs": [],
   "source": [
    "DATA2 = 'data/Appen_sample2.csv'\n",
    "csv2 = pd.read_csv(DATA2)"
   ]
  },
  {
   "cell_type": "code",
   "execution_count": 16,
   "id": "297967e6",
   "metadata": {},
   "outputs": [
    {
     "data": {
      "text/html": [
       "<div>\n",
       "<style scoped>\n",
       "    .dataframe tbody tr th:only-of-type {\n",
       "        vertical-align: middle;\n",
       "    }\n",
       "\n",
       "    .dataframe tbody tr th {\n",
       "        vertical-align: top;\n",
       "    }\n",
       "\n",
       "    .dataframe thead th {\n",
       "        text-align: right;\n",
       "    }\n",
       "</style>\n",
       "<table border=\"1\" class=\"dataframe\">\n",
       "  <thead>\n",
       "    <tr style=\"text-align: right;\">\n",
       "      <th></th>\n",
       "      <th>ID</th>\n",
       "      <th>text</th>\n",
       "    </tr>\n",
       "  </thead>\n",
       "  <tbody>\n",
       "    <tr>\n",
       "      <th>0</th>\n",
       "      <td>4414070</td>\n",
       "      <td>The first domino following the #Brexit result ...</td>\n",
       "    </tr>\n",
       "    <tr>\n",
       "      <th>1</th>\n",
       "      <td>6766689</td>\n",
       "      <td>Brexit-bored Brits back to bashing the bishop ...</td>\n",
       "    </tr>\n",
       "    <tr>\n",
       "      <th>2</th>\n",
       "      <td>5333145</td>\n",
       "      <td>#Cheaper# UK #Holiday But Aviation Regulation ...</td>\n",
       "    </tr>\n",
       "    <tr>\n",
       "      <th>3</th>\n",
       "      <td>818855</td>\n",
       "      <td>Financial Times - BoE: Brexit weighing on the ...</td>\n",
       "    </tr>\n",
       "    <tr>\n",
       "      <th>4</th>\n",
       "      <td>2103995</td>\n",
       "      <td>If we Brexit I had cunning plan to go to Scotl...</td>\n",
       "    </tr>\n",
       "  </tbody>\n",
       "</table>\n",
       "</div>"
      ],
      "text/plain": [
       "        ID                                               text\n",
       "0  4414070  The first domino following the #Brexit result ...\n",
       "1  6766689  Brexit-bored Brits back to bashing the bishop ...\n",
       "2  5333145  #Cheaper# UK #Holiday But Aviation Regulation ...\n",
       "3   818855  Financial Times - BoE: Brexit weighing on the ...\n",
       "4  2103995  If we Brexit I had cunning plan to go to Scotl..."
      ]
     },
     "execution_count": 16,
     "metadata": {},
     "output_type": "execute_result"
    }
   ],
   "source": [
    "csv2.head()"
   ]
  },
  {
   "cell_type": "code",
   "execution_count": 28,
   "id": "5cf86dda",
   "metadata": {},
   "outputs": [],
   "source": [
    "def predict(df):\n",
    "    print(df.head())\n",
    "    X = vectorizer.fit_transform(df['text'])\n",
    "    y_pred = clf.predict(X)\n",
    "    return y_pred"
   ]
  },
  {
   "cell_type": "code",
   "execution_count": 34,
   "id": "23afa725",
   "metadata": {},
   "outputs": [],
   "source": [
    "csv2['label'] = y_pred"
   ]
  },
  {
   "cell_type": "code",
   "execution_count": 36,
   "id": "7dfa2979",
   "metadata": {},
   "outputs": [],
   "source": [
    "csv2['label'] = csv2['label'].map(lambda x: 'uncivil' if x == 1 else 'civil')"
   ]
  },
  {
   "cell_type": "code",
   "execution_count": 39,
   "id": "b144d9df",
   "metadata": {},
   "outputs": [],
   "source": [
    "csv2.to_csv('data/test_Appen_sample.csv')"
   ]
  },
  {
   "cell_type": "code",
   "execution_count": null,
   "id": "4f3fb16f",
   "metadata": {},
   "outputs": [],
   "source": []
  }
 ],
 "metadata": {
  "kernelspec": {
   "display_name": "Python 3",
   "language": "python",
   "name": "python3"
  },
  "language_info": {
   "codemirror_mode": {
    "name": "ipython",
    "version": 3
   },
   "file_extension": ".py",
   "mimetype": "text/x-python",
   "name": "python",
   "nbconvert_exporter": "python",
   "pygments_lexer": "ipython3",
   "version": "3.6.9"
  }
 },
 "nbformat": 4,
 "nbformat_minor": 5
}
